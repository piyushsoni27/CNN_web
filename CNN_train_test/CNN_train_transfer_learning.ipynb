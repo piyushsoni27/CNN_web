{
  "nbformat": 4,
  "nbformat_minor": 0,
  "metadata": {
    "colab": {
      "name": "CNN_train_transfer_learning.ipynb",
      "version": "0.3.2",
      "provenance": [],
      "collapsed_sections": [],
      "include_colab_link": true
    },
    "kernelspec": {
      "name": "python3",
      "display_name": "Python 3"
    },
    "accelerator": "GPU"
  },
  "cells": [
    {
      "cell_type": "markdown",
      "metadata": {
        "id": "view-in-github",
        "colab_type": "text"
      },
      "source": [
        "<a href=\"https://colab.research.google.com/github/piyushsoni27/CNN_web/blob/master/CNN_train_test/CNN_train_transfer_learning.ipynb\" target=\"_parent\"><img src=\"https://colab.research.google.com/assets/colab-badge.svg\" alt=\"Open In Colab\"/></a>"
      ]
    },
    {
      "cell_type": "code",
      "metadata": {
        "id": "Tu1KET_iJzjs",
        "colab_type": "code",
        "colab": {
          "base_uri": "https://localhost:8080/",
          "height": 54
        },
        "outputId": "69ba56e4-92e8-4b89-e714-65ab852a6089"
      },
      "source": [
        "from google.colab import drive\n",
        "drive.mount('/content/drive')"
      ],
      "execution_count": 21,
      "outputs": [
        {
          "output_type": "stream",
          "text": [
            "Drive already mounted at /content/drive; to attempt to forcibly remount, call drive.mount(\"/content/drive\", force_remount=True).\n"
          ],
          "name": "stdout"
        }
      ]
    },
    {
      "cell_type": "code",
      "metadata": {
        "id": "dxx1lsSeJ-j3",
        "colab_type": "code",
        "colab": {
          "base_uri": "https://localhost:8080/",
          "height": 34
        },
        "outputId": "3015bd24-8ceb-4084-8758-3291d5bb8d6d"
      },
      "source": [
        "\"\"\"\n",
        "import os\n",
        "\n",
        "os.chdir(\"drive/My Drive/Google colab projects/CNN_web\")\n",
        "\"\"\""
      ],
      "execution_count": 22,
      "outputs": [
        {
          "output_type": "execute_result",
          "data": {
            "text/plain": [
              "'\\nimport os\\n\\nos.chdir(\"drive/My Drive/Google colab projects/CNN_web\")\\n'"
            ]
          },
          "metadata": {
            "tags": []
          },
          "execution_count": 22
        }
      ]
    },
    {
      "cell_type": "code",
      "metadata": {
        "id": "ZzY6zO01KLIY",
        "colab_type": "code",
        "colab": {}
      },
      "source": [
        "patches_dir = \"cifar-10-batches-py/\""
      ],
      "execution_count": 0,
      "outputs": []
    },
    {
      "cell_type": "markdown",
      "metadata": {
        "id": "5UP0scgw-5Vs",
        "colab_type": "text"
      },
      "source": [
        "#imports"
      ]
    },
    {
      "cell_type": "code",
      "metadata": {
        "id": "TM8Ltge-KkSH",
        "colab_type": "code",
        "colab": {}
      },
      "source": [
        "import numpy as np\n",
        "import pickle\n",
        "import os\n",
        "import cv2\n",
        "\n",
        "import tensorflow as tf\n",
        "from tensorflow.keras import layers\n",
        "from tensorflow.keras import Model\n",
        "from tensorflow.keras.utils import to_categorical\n",
        "from tensorflow.keras.optimizers import RMSprop\n",
        "from tensorflow.keras.preprocessing.image import ImageDataGenerator\n",
        "\n",
        "import scipy\n",
        "from sklearn.model_selection import train_test_split\n",
        "\n",
        "import matplotlib.pyplot as plt\n",
        "\n",
        "%matplotlib inline\n",
        "%config InlineBackend.figure_format = 'retina'"
      ],
      "execution_count": 0,
      "outputs": []
    },
    {
      "cell_type": "markdown",
      "metadata": {
        "id": "Td1sVqBqwTJv",
        "colab_type": "text"
      },
      "source": [
        "##Parameters to be set"
      ]
    },
    {
      "cell_type": "code",
      "metadata": {
        "id": "kGZDWZjewV95",
        "colab_type": "code",
        "colab": {}
      },
      "source": [
        "## Minimum input image shape is (75, 75, 3) for inceptionV3 model.\n",
        "input_size = (75, 75, 3)\n",
        "\n",
        "num_classes = 10"
      ],
      "execution_count": 0,
      "outputs": []
    },
    {
      "cell_type": "markdown",
      "metadata": {
        "id": "BFn_hAE2MvhZ",
        "colab_type": "text"
      },
      "source": [
        "##Download and load pre-trained *Inception V3* model"
      ]
    },
    {
      "cell_type": "code",
      "metadata": {
        "id": "Dj_oFMgfKy59",
        "colab_type": "code",
        "colab": {
          "base_uri": "https://localhost:8080/",
          "height": 224
        },
        "outputId": "428d5fda-e9c0-49f3-fb8b-d0f1d3e12b52"
      },
      "source": [
        "!wget --no-check-certificate \\\n",
        "    https://storage.googleapis.com/mledu-datasets/inception_v3_weights_tf_dim_ordering_tf_kernels_notop.h5 \\\n",
        "    -O /tmp/inception_v3_weights_tf_dim_ordering_tf_kernels_notop.h5"
      ],
      "execution_count": 26,
      "outputs": [
        {
          "output_type": "stream",
          "text": [
            "--2019-05-19 13:54:06--  https://storage.googleapis.com/mledu-datasets/inception_v3_weights_tf_dim_ordering_tf_kernels_notop.h5\n",
            "Resolving storage.googleapis.com (storage.googleapis.com)... 74.125.129.128, 2607:f8b0:4001:c15::80\n",
            "Connecting to storage.googleapis.com (storage.googleapis.com)|74.125.129.128|:443... connected.\n",
            "HTTP request sent, awaiting response... 200 OK\n",
            "Length: 87910968 (84M) [application/x-hdf]\n",
            "Saving to: ‘/tmp/inception_v3_weights_tf_dim_ordering_tf_kernels_notop.h5’\n",
            "\n",
            "\r          /tmp/ince   0%[                    ]       0  --.-KB/s               \r         /tmp/incep  38%[======>             ]  32.01M   108MB/s               \r/tmp/inception_v3_w 100%[===================>]  83.84M   170MB/s    in 0.5s    \n",
            "\n",
            "2019-05-19 13:54:07 (170 MB/s) - ‘/tmp/inception_v3_weights_tf_dim_ordering_tf_kernels_notop.h5’ saved [87910968/87910968]\n",
            "\n"
          ],
          "name": "stdout"
        }
      ]
    },
    {
      "cell_type": "code",
      "metadata": {
        "id": "zN7tfb46MOxT",
        "colab_type": "code",
        "colab": {}
      },
      "source": [
        "from tensorflow.keras.applications.inception_v3 import InceptionV3\n",
        "\n",
        "## Minimum input image shape is (75, 75, 3) for inceptionV3 model.\n",
        "\n",
        "local_weights_file = '/tmp/inception_v3_weights_tf_dim_ordering_tf_kernels_notop.h5'\n",
        "pre_trained_model = InceptionV3(\n",
        "    input_shape=input_size, include_top=False, weights=None)\n",
        "pre_trained_model.load_weights(local_weights_file)"
      ],
      "execution_count": 0,
      "outputs": []
    },
    {
      "cell_type": "markdown",
      "metadata": {
        "id": "RGekmgtuMiwS",
        "colab_type": "text"
      },
      "source": [
        "##Loading and preparing data "
      ]
    },
    {
      "cell_type": "code",
      "metadata": {
        "id": "IR_OyPBqMVBg",
        "colab_type": "code",
        "colab": {}
      },
      "source": [
        "def load_cifar10_train_batch_util(batch_id):\n",
        "\n",
        "    with open(os.path.join('cifar-10-batches-py','data_batch_' \n",
        "              + str(batch_id)), mode='rb') as file:\n",
        "        batch = pickle.load(file, encoding='latin1')\n",
        "\n",
        "    features_batch = batch['data'].reshape((len(batch['data']), 3, 32, 32)).transpose(0, 2, 3, 1)\n",
        "    labels_batch = batch['labels']\n",
        "    \n",
        "    return features_batch, labels_batch\n",
        "\n",
        "def load_train_data(im_shape = (32,32,3), one_hot_labels = True, num_classes = num_classes):\n",
        "    features = np.zeros(shape = (50000, 32, 32, 3), dtype = np.uint8)\n",
        "    labels = []\n",
        "\n",
        "    for batch_id in range(1,6):\n",
        "        x, y = load_cifar10_train_batch_util(batch_id)\n",
        "        features[10000*(batch_id-1) : 10000*batch_id] = x\n",
        "        labels.extend(y)\n",
        "    \n",
        "    if(one_hot_labels is True):\n",
        "        labels = to_categorical(labels, num_classes)\n",
        "    \n",
        "    if(im_shape is not (32,32,3)):\n",
        "      \n",
        "      features_new = np.empty(shape=(features.shape[0],)+im_shape, dtype=np.uint8)\n",
        "      for idx in range(features.shape[0]):\n",
        "          features_new[idx] = scipy.misc.imresize(features[idx], im_shape)\n",
        "      \n",
        "      return features_new, labels\n",
        "    \n",
        "    else:\n",
        "        return features, labels\n",
        "      \n",
        "def load_test_data(im_shape = (32,32,3)):\n",
        "    \n",
        "    with open(os.path.join('cifar-10-batches-py','test_batch'), mode='rb') as file:\n",
        "        batch = pickle.load(file, encoding='latin1')\n",
        "\n",
        "    features = batch['data'].reshape((len(batch['data']), 3, 32, 32)).transpose(0, 2, 3, 1)\n",
        "    labels = batch['labels']\n",
        "    \n",
        "    if(im_shape is not (32,32,3)):\n",
        "      \n",
        "      features_new = np.empty(shape=(features.shape[0],)+im_shape, dtype=np.uint8)\n",
        "      for idx in range(features.shape[0]):\n",
        "          features_new[idx] = scipy.misc.imresize(features[idx], im_shape)\n",
        "      \n",
        "      return features_new\n",
        "    \n",
        "    else:\n",
        "      return features"
      ],
      "execution_count": 0,
      "outputs": []
    },
    {
      "cell_type": "code",
      "metadata": {
        "id": "U72EphPrSTG5",
        "colab_type": "code",
        "colab": {
          "base_uri": "https://localhost:8080/",
          "height": 491
        },
        "outputId": "e7650bdc-a068-4d63-c9e3-eec14528c040"
      },
      "source": [
        "x, y = load_train_data(im_shape = input_size)\n",
        "x_test = load_test_data(im_shape = input_size)\n",
        "\n",
        "print(x_test.shape)\n",
        "print(len(y))\n",
        "print(x[10000].shape) \n",
        "\n",
        "print(x[1].min())\n",
        "print(x[1].max())\n",
        "\n",
        "plt.axis('off')\n",
        "plt.imshow(x[10000])\n",
        "plt.show()\n",
        "\n",
        "print(\"label: {}\".format(y[10000]))"
      ],
      "execution_count": 31,
      "outputs": [
        {
          "output_type": "stream",
          "text": [
            "/usr/local/lib/python3.6/dist-packages/ipykernel_launcher.py:28: DeprecationWarning: `imresize` is deprecated!\n",
            "`imresize` is deprecated in SciPy 1.0.0, and will be removed in 1.3.0.\n",
            "Use Pillow instead: ``numpy.array(Image.fromarray(arr).resize())``.\n",
            "/usr/local/lib/python3.6/dist-packages/ipykernel_launcher.py:47: DeprecationWarning: `imresize` is deprecated!\n",
            "`imresize` is deprecated in SciPy 1.0.0, and will be removed in 1.3.0.\n",
            "Use Pillow instead: ``numpy.array(Image.fromarray(arr).resize())``.\n"
          ],
          "name": "stderr"
        },
        {
          "output_type": "stream",
          "text": [
            "(10000, 75, 75, 3)\n",
            "50000\n",
            "(75, 75, 3)\n",
            "5\n",
            "253\n"
          ],
          "name": "stdout"
        },
        {
          "output_type": "display_data",
          "data": {
            "image/png": "[encoded data removed]",
            "text/plain": [
              "<Figure size 432x288 with 1 Axes>"
            ]
          },
          "metadata": {
            "tags": [],
            "image/png": {
              "width": 251,
              "height": 250
            }
          }
        },
        {
          "output_type": "stream",
          "text": [
            "label: [0. 1. 0. 0. 0. 0. 0. 0. 0. 0.]\n"
          ],
          "name": "stdout"
        }
      ]
    },
    {
      "cell_type": "code",
      "metadata": {
        "id": "lomcPI7LRtRv",
        "colab_type": "code",
        "colab": {}
      },
      "source": [
        "x_train, x_val, y_train, y_val = train_test_split(x, y, test_size=0.2, random_state=1)\n",
        "\n",
        "\n",
        "# Adding rescale, rotation_range, width_shift_range, height_shift_range,\n",
        "# shear_range, zoom_range, and horizontal flip to our ImageDataGenerator\n",
        "train_datagen = ImageDataGenerator(\n",
        "    rescale=1./255,\n",
        "    rotation_range=40,\n",
        "    width_shift_range=0.2,\n",
        "    height_shift_range=0.2,\n",
        "    shear_range=0.2,\n",
        "    zoom_range=0.2,\n",
        "    horizontal_flip=True,)\n",
        "\n",
        "val_datagen = ImageDataGenerator(rescale=1./255)\n",
        "\n",
        "# Flow training images in batches of 32 using train_datagen generator\n",
        "train_generator = train_datagen.flow(x_train,  y_train)\n",
        "\n",
        "# Flow validation images in batches of 20 using test_datagen generator\n",
        "validation_generator = val_datagen.flow(x_val, y_val)"
      ],
      "execution_count": 0,
      "outputs": []
    },
    {
      "cell_type": "code",
      "metadata": {
        "id": "OiTUhdTrYLXY",
        "colab_type": "code",
        "colab": {
          "base_uri": "https://localhost:8080/",
          "height": 34
        },
        "outputId": "97d0c9d4-3ed4-45b0-f019-179b53a30ebd"
      },
      "source": [
        "for layer in pre_trained_model.layers:\n",
        "  layer.trainable = False\n",
        "  \n",
        "last_layer = pre_trained_model.get_layer('mixed7')\n",
        "print('last layer output shape:', last_layer.output_shape)\n",
        "last_output = last_layer.output"
      ],
      "execution_count": 34,
      "outputs": [
        {
          "output_type": "stream",
          "text": [
            "last layer output shape: (None, 3, 3, 768)\n"
          ],
          "name": "stdout"
        }
      ]
    },
    {
      "cell_type": "code",
      "metadata": {
        "id": "hv4367aQWZqO",
        "colab_type": "code",
        "colab": {
          "base_uri": "https://localhost:8080/",
          "height": 88
        },
        "outputId": "6818227d-57a2-45ab-e127-1b1567f0ff1f"
      },
      "source": [
        "# Flatten the output layer to 1 dimension\n",
        "x = layers.Flatten()(last_output)\n",
        "# Add a fully connected layer with 1,024 hidden units and ReLU activation\n",
        "x = layers.Dense(1024, activation='relu')(x)\n",
        "# Add a dropout rate of 0.2\n",
        "x = layers.Dropout(0.2)(x)\n",
        "# Add a final sigmoid layer for classification\n",
        "x = layers.Dense(num_classes, activation='softmax')(x)\n",
        "\n",
        "# Configure and compile the model\n",
        "model = Model(pre_trained_model.input, x)\n",
        "model.compile(loss='categorical_crossentropy',\n",
        "              optimizer=RMSprop(lr=0.0001),\n",
        "              metrics=['acc'])"
      ],
      "execution_count": 35,
      "outputs": [
        {
          "output_type": "stream",
          "text": [
            "WARNING:tensorflow:From /usr/local/lib/python3.6/dist-packages/tensorflow/python/keras/layers/core.py:143: calling dropout (from tensorflow.python.ops.nn_ops) with keep_prob is deprecated and will be removed in a future version.\n",
            "Instructions for updating:\n",
            "Please use `rate` instead of `keep_prob`. Rate should be set to `rate = 1 - keep_prob`.\n"
          ],
          "name": "stdout"
        }
      ]
    },
    {
      "cell_type": "code",
      "metadata": {
        "id": "l9F0y7r7MjtH",
        "colab_type": "code",
        "colab": {
          "base_uri": "https://localhost:8080/",
          "height": 190
        },
        "outputId": "6c185bbb-aea7-4ed4-c150-91546c43f060"
      },
      "source": [
        "history = model.fit_generator(\n",
        "      train_generator,\n",
        "      steps_per_epoch=100,\n",
        "      epochs=2,\n",
        "      validation_data=validation_generator,\n",
        "      validation_steps=50,\n",
        "      verbose=2)\n",
        "\n"
      ],
      "execution_count": 36,
      "outputs": [
        {
          "output_type": "stream",
          "text": [
            "WARNING:tensorflow:From /usr/local/lib/python3.6/dist-packages/tensorflow/python/ops/math_ops.py:3066: to_int32 (from tensorflow.python.ops.math_ops) is deprecated and will be removed in a future version.\n",
            "Instructions for updating:\n",
            "Use tf.cast instead.\n",
            "Epoch 1/2\n",
            "313/313 [==============================] - 7s 23ms/step - loss: 2.4177 - acc: 0.5533\n",
            " - 79s - loss: 1.3743 - acc: 0.5406 - val_loss: 2.4177 - val_acc: 0.5533\n",
            "Epoch 2/2\n",
            "313/313 [==============================] - 7s 22ms/step - loss: 2.5849 - acc: 0.5571\n",
            " - 72s - loss: 1.1631 - acc: 0.6035 - val_loss: 2.5849 - val_acc: 0.5571\n"
          ],
          "name": "stdout"
        }
      ]
    },
    {
      "cell_type": "markdown",
      "metadata": {
        "id": "PosEaT_cZ5Mt",
        "colab_type": "text"
      },
      "source": [
        "##Further Improving Accuracy with Fine-Tuning\n",
        "* Re-train only top layers of *Inception V3* model"
      ]
    },
    {
      "cell_type": "code",
      "metadata": {
        "id": "L8uYmZeaZVnz",
        "colab_type": "code",
        "colab": {}
      },
      "source": [
        "from tensorflow.keras.optimizers import SGD\n",
        "\n",
        "unfreeze = False\n",
        "\n",
        "# Unfreeze all models after \"mixed6\"\n",
        "for layer in pre_trained_model.layers:\n",
        "  if unfreeze:\n",
        "    layer.trainable = True\n",
        "  if layer.name == 'mixed6':\n",
        "    unfreeze = True\n",
        "\n",
        "# As an optimizer, here we will use SGD \n",
        "# with a very low learning rate (0.00001)\n",
        "model.compile(loss='categorical_crossentropy',\n",
        "              optimizer=SGD(\n",
        "                  lr=0.001, \n",
        "                  momentum=0.9),\n",
        "              metrics=['acc'])"
      ],
      "execution_count": 0,
      "outputs": []
    },
    {
      "cell_type": "code",
      "metadata": {
        "id": "T0eMwJz4ZlVS",
        "colab_type": "code",
        "colab": {
          "base_uri": "https://localhost:8080/",
          "height": 2567
        },
        "outputId": "2cd9ef8e-6560-4dc5-aab0-1f3341ef4223"
      },
      "source": [
        "history_finetune = model.fit_generator(\n",
        "      train_generator,\n",
        "      steps_per_epoch=100,\n",
        "      epochs=50,\n",
        "      validation_data=validation_generator,\n",
        "      validation_steps=50,\n",
        "      verbose=2)"
      ],
      "execution_count": 40,
      "outputs": [
        {
          "output_type": "stream",
          "text": [
            "Epoch 1/50\n",
            "313/313 [==============================] - 8s 26ms/step - loss: 2.5810 - acc: 0.5851\n",
            " - 78s - loss: 1.0439 - acc: 0.6395 - val_loss: 2.5810 - val_acc: 0.5851\n",
            "Epoch 2/50\n",
            "313/313 [==============================] - 6s 20ms/step - loss: 2.9811 - acc: 0.5488\n",
            " - 73s - loss: 0.9663 - acc: 0.6619 - val_loss: 2.9811 - val_acc: 0.5488\n",
            "Epoch 3/50\n",
            "313/313 [==============================] - 6s 20ms/step - loss: 2.8420 - acc: 0.5636\n",
            " - 75s - loss: 0.9227 - acc: 0.6776 - val_loss: 2.8420 - val_acc: 0.5636\n",
            "Epoch 4/50\n",
            "313/313 [==============================] - 6s 20ms/step - loss: 2.7184 - acc: 0.5710\n",
            " - 74s - loss: 0.8855 - acc: 0.6921 - val_loss: 2.7184 - val_acc: 0.5710\n",
            "Epoch 5/50\n",
            "313/313 [==============================] - 6s 20ms/step - loss: 2.8598 - acc: 0.5657\n",
            " - 76s - loss: 0.8645 - acc: 0.6984 - val_loss: 2.8598 - val_acc: 0.5657\n",
            "Epoch 6/50\n",
            "313/313 [==============================] - 6s 20ms/step - loss: 2.6104 - acc: 0.5809\n",
            " - 75s - loss: 0.8380 - acc: 0.7052 - val_loss: 2.6104 - val_acc: 0.5809\n",
            "Epoch 7/50\n",
            "313/313 [==============================] - 6s 20ms/step - loss: 2.3794 - acc: 0.5986\n",
            " - 75s - loss: 0.8231 - acc: 0.7124 - val_loss: 2.3794 - val_acc: 0.5986\n",
            "Epoch 8/50\n",
            "313/313 [==============================] - 6s 20ms/step - loss: 2.4418 - acc: 0.5955\n",
            " - 75s - loss: 0.8055 - acc: 0.7194 - val_loss: 2.4418 - val_acc: 0.5955\n",
            "Epoch 9/50\n",
            "313/313 [==============================] - 6s 20ms/step - loss: 2.3757 - acc: 0.6013\n",
            " - 76s - loss: 0.7903 - acc: 0.7219 - val_loss: 2.3757 - val_acc: 0.6013\n",
            "Epoch 10/50\n",
            "313/313 [==============================] - 6s 20ms/step - loss: 2.3160 - acc: 0.5972\n",
            " - 74s - loss: 0.7756 - acc: 0.7275 - val_loss: 2.3160 - val_acc: 0.5972\n",
            "Epoch 11/50\n",
            "313/313 [==============================] - 6s 20ms/step - loss: 2.3046 - acc: 0.6027\n",
            " - 75s - loss: 0.7589 - acc: 0.7338 - val_loss: 2.3046 - val_acc: 0.6027\n",
            "Epoch 12/50\n",
            "313/313 [==============================] - 6s 20ms/step - loss: 2.6360 - acc: 0.5785\n",
            " - 74s - loss: 0.7535 - acc: 0.7371 - val_loss: 2.6360 - val_acc: 0.5785\n",
            "Epoch 13/50\n",
            "313/313 [==============================] - 6s 20ms/step - loss: 2.3485 - acc: 0.6023\n",
            " - 75s - loss: 0.7397 - acc: 0.7418 - val_loss: 2.3485 - val_acc: 0.6023\n",
            "Epoch 14/50\n",
            "313/313 [==============================] - 6s 21ms/step - loss: 2.2188 - acc: 0.6179\n",
            " - 75s - loss: 0.7318 - acc: 0.7448 - val_loss: 2.2188 - val_acc: 0.6179\n",
            "Epoch 15/50\n",
            "313/313 [==============================] - 7s 23ms/step - loss: 2.5002 - acc: 0.5927\n",
            " - 75s - loss: 0.7254 - acc: 0.7466 - val_loss: 2.5002 - val_acc: 0.5927\n",
            "Epoch 16/50\n",
            "313/313 [==============================] - 6s 20ms/step - loss: 2.2912 - acc: 0.6048\n",
            " - 73s - loss: 0.7257 - acc: 0.7468 - val_loss: 2.2912 - val_acc: 0.6048\n",
            "Epoch 17/50\n",
            "313/313 [==============================] - 7s 23ms/step - loss: 2.1376 - acc: 0.6122\n",
            " - 75s - loss: 0.7140 - acc: 0.7518 - val_loss: 2.1376 - val_acc: 0.6122\n",
            "Epoch 18/50\n",
            "313/313 [==============================] - 6s 20ms/step - loss: 2.2621 - acc: 0.6022\n",
            " - 75s - loss: 0.6987 - acc: 0.7557 - val_loss: 2.2621 - val_acc: 0.6022\n",
            "Epoch 19/50\n",
            "313/313 [==============================] - 7s 21ms/step - loss: 2.1601 - acc: 0.6069\n",
            " - 75s - loss: 0.6877 - acc: 0.7604 - val_loss: 2.1601 - val_acc: 0.6069\n",
            "Epoch 20/50\n",
            "313/313 [==============================] - 6s 20ms/step - loss: 2.2148 - acc: 0.5993\n",
            " - 75s - loss: 0.6887 - acc: 0.7589 - val_loss: 2.2148 - val_acc: 0.5993\n",
            "Epoch 21/50\n",
            "313/313 [==============================] - 6s 20ms/step - loss: 2.3363 - acc: 0.5907\n",
            " - 74s - loss: 0.6797 - acc: 0.7621 - val_loss: 2.3363 - val_acc: 0.5907\n",
            "Epoch 22/50\n",
            "313/313 [==============================] - 6s 20ms/step - loss: 2.2130 - acc: 0.6062\n",
            " - 76s - loss: 0.6788 - acc: 0.7631 - val_loss: 2.2130 - val_acc: 0.6062\n",
            "Epoch 23/50\n",
            "313/313 [==============================] - 7s 21ms/step - loss: 2.3552 - acc: 0.5913\n",
            " - 75s - loss: 0.6718 - acc: 0.7647 - val_loss: 2.3552 - val_acc: 0.5913\n",
            "Epoch 24/50\n",
            "313/313 [==============================] - 6s 20ms/step - loss: 2.4013 - acc: 0.5872\n",
            " - 75s - loss: 0.6700 - acc: 0.7655 - val_loss: 2.4013 - val_acc: 0.5872\n",
            "Epoch 25/50\n",
            "313/313 [==============================] - 6s 20ms/step - loss: 2.1568 - acc: 0.6059\n",
            " - 74s - loss: 0.6627 - acc: 0.7681 - val_loss: 2.1568 - val_acc: 0.6059\n",
            "Epoch 26/50\n",
            "313/313 [==============================] - 6s 20ms/step - loss: 2.1236 - acc: 0.6018\n",
            " - 76s - loss: 0.6468 - acc: 0.7723 - val_loss: 2.1236 - val_acc: 0.6018\n",
            "Epoch 27/50\n",
            "313/313 [==============================] - 6s 20ms/step - loss: 1.9422 - acc: 0.6257\n",
            " - 74s - loss: 0.6511 - acc: 0.7733 - val_loss: 1.9422 - val_acc: 0.6257\n",
            "Epoch 28/50\n",
            "313/313 [==============================] - 6s 20ms/step - loss: 2.1759 - acc: 0.5987\n",
            " - 75s - loss: 0.6454 - acc: 0.7734 - val_loss: 2.1759 - val_acc: 0.5987\n",
            "Epoch 29/50\n",
            "313/313 [==============================] - 7s 23ms/step - loss: 2.2284 - acc: 0.6042\n",
            " - 74s - loss: 0.6366 - acc: 0.7779 - val_loss: 2.2284 - val_acc: 0.6042\n",
            "Epoch 30/50\n",
            "313/313 [==============================] - 7s 21ms/step - loss: 2.1029 - acc: 0.6138\n",
            " - 75s - loss: 0.6359 - acc: 0.7763 - val_loss: 2.1029 - val_acc: 0.6138\n",
            "Epoch 31/50\n",
            "313/313 [==============================] - 6s 20ms/step - loss: 2.0082 - acc: 0.6150\n",
            " - 74s - loss: 0.6306 - acc: 0.7786 - val_loss: 2.0082 - val_acc: 0.6150\n",
            "Epoch 32/50\n",
            "313/313 [==============================] - 6s 20ms/step - loss: 2.2075 - acc: 0.5959\n",
            " - 75s - loss: 0.6242 - acc: 0.7806 - val_loss: 2.2075 - val_acc: 0.5959\n",
            "Epoch 33/50\n",
            "313/313 [==============================] - 6s 20ms/step - loss: 2.1427 - acc: 0.6052\n",
            " - 74s - loss: 0.6191 - acc: 0.7832 - val_loss: 2.1427 - val_acc: 0.6052\n",
            "Epoch 34/50\n",
            "313/313 [==============================] - 6s 20ms/step - loss: 1.9780 - acc: 0.6213\n",
            " - 76s - loss: 0.6145 - acc: 0.7856 - val_loss: 1.9780 - val_acc: 0.6213\n",
            "Epoch 35/50\n",
            "313/313 [==============================] - 6s 20ms/step - loss: 1.9390 - acc: 0.6274\n",
            " - 74s - loss: 0.6044 - acc: 0.7886 - val_loss: 1.9390 - val_acc: 0.6274\n",
            "Epoch 36/50\n",
            "313/313 [==============================] - 6s 20ms/step - loss: 2.0871 - acc: 0.6056\n",
            " - 75s - loss: 0.6094 - acc: 0.7861 - val_loss: 2.0871 - val_acc: 0.6056\n",
            "Epoch 37/50\n",
            "313/313 [==============================] - 6s 20ms/step - loss: 2.1622 - acc: 0.5973\n",
            " - 74s - loss: 0.6106 - acc: 0.7857 - val_loss: 2.1622 - val_acc: 0.5973\n",
            "Epoch 38/50\n",
            "313/313 [==============================] - 6s 20ms/step - loss: 1.8023 - acc: 0.6314\n",
            " - 76s - loss: 0.6061 - acc: 0.7873 - val_loss: 1.8023 - val_acc: 0.6314\n",
            "Epoch 39/50\n",
            "313/313 [==============================] - 6s 20ms/step - loss: 2.0432 - acc: 0.6105\n",
            " - 74s - loss: 0.5987 - acc: 0.7901 - val_loss: 2.0432 - val_acc: 0.6105\n",
            "Epoch 40/50\n",
            "313/313 [==============================] - 6s 20ms/step - loss: 1.9059 - acc: 0.6279\n",
            " - 75s - loss: 0.5884 - acc: 0.7930 - val_loss: 1.9059 - val_acc: 0.6279\n",
            "Epoch 41/50\n",
            "313/313 [==============================] - 6s 20ms/step - loss: 2.0556 - acc: 0.6058\n",
            " - 74s - loss: 0.5875 - acc: 0.7925 - val_loss: 2.0556 - val_acc: 0.6058\n",
            "Epoch 42/50\n",
            "313/313 [==============================] - 6s 21ms/step - loss: 1.8556 - acc: 0.6244\n",
            " - 75s - loss: 0.5846 - acc: 0.7938 - val_loss: 1.8556 - val_acc: 0.6244\n",
            "Epoch 43/50\n",
            "313/313 [==============================] - 7s 23ms/step - loss: 1.7050 - acc: 0.6507\n",
            " - 74s - loss: 0.5823 - acc: 0.7955 - val_loss: 1.7050 - val_acc: 0.6507\n",
            "Epoch 44/50\n",
            "313/313 [==============================] - 7s 21ms/step - loss: 1.8438 - acc: 0.6341\n",
            " - 74s - loss: 0.5817 - acc: 0.7951 - val_loss: 1.8438 - val_acc: 0.6341\n",
            "Epoch 45/50\n",
            "313/313 [==============================] - 6s 20ms/step - loss: 1.9311 - acc: 0.6183\n",
            " - 74s - loss: 0.5768 - acc: 0.7991 - val_loss: 1.9311 - val_acc: 0.6183\n",
            "Epoch 46/50\n",
            "313/313 [==============================] - 6s 21ms/step - loss: 1.8924 - acc: 0.6276\n",
            " - 75s - loss: 0.5735 - acc: 0.7984 - val_loss: 1.8924 - val_acc: 0.6276\n",
            "Epoch 47/50\n",
            "313/313 [==============================] - 6s 20ms/step - loss: 1.9993 - acc: 0.6158\n",
            " - 76s - loss: 0.5683 - acc: 0.8026 - val_loss: 1.9993 - val_acc: 0.6158\n",
            "Epoch 48/50\n",
            "313/313 [==============================] - 6s 20ms/step - loss: 1.8681 - acc: 0.6285\n",
            " - 75s - loss: 0.5683 - acc: 0.8022 - val_loss: 1.8681 - val_acc: 0.6285\n",
            "Epoch 49/50\n",
            "313/313 [==============================] - 6s 20ms/step - loss: 1.9322 - acc: 0.6235\n",
            " - 74s - loss: 0.5705 - acc: 0.8007 - val_loss: 1.9322 - val_acc: 0.6235\n",
            "Epoch 50/50\n",
            "313/313 [==============================] - 6s 20ms/step - loss: 2.1083 - acc: 0.6079\n",
            " - 74s - loss: 0.5653 - acc: 0.8015 - val_loss: 2.1083 - val_acc: 0.6079\n"
          ],
          "name": "stdout"
        }
      ]
    },
    {
      "cell_type": "markdown",
      "metadata": {
        "id": "wFzf7wzmip3m",
        "colab_type": "text"
      },
      "source": [
        "https://www.pyimagesearch.com/2018/12/10/keras-save-and-load-your-deep-learning-models/"
      ]
    },
    {
      "cell_type": "code",
      "metadata": {
        "id": "6_1Y1OaHjAFL",
        "colab_type": "code",
        "colab": {
          "base_uri": "https://localhost:8080/",
          "height": 560
        },
        "outputId": "636d64b7-559b-4c50-95c4-49a62fa34014"
      },
      "source": [
        "\n",
        "\n",
        "%matplotlib inline\n",
        "\n",
        "import matplotlib.pyplot as plt\n",
        "import matplotlib.image as mpimg\n",
        "\n",
        "# Retrieve a list of accuracy results on training and test data\n",
        "# sets for each training epoch\n",
        "acc = history_finetune.history['acc']\n",
        "val_acc = history_finetune.history['val_acc']\n",
        "\n",
        "# Retrieve a list of list results on training and test data\n",
        "# sets for each training epoch\n",
        "loss = history_finetune.history['loss']\n",
        "val_loss = history_finetune.history['val_loss']\n",
        "\n",
        "# Get number of epochs\n",
        "epochs = range(len(acc))\n",
        "\n",
        "# Plot training and validation accuracy per epoch\n",
        "plt.plot(epochs, acc)\n",
        "plt.plot(epochs, val_acc)\n",
        "plt.title('Training and validation accuracy')\n",
        "\n",
        "plt.figure()\n",
        "\n",
        "# Plot training and validation loss per epoch\n",
        "plt.plot(epochs, loss)\n",
        "plt.plot(epochs, val_loss)\n",
        "plt.title('Training and validation loss')"
      ],
      "execution_count": 43,
      "outputs": [
        {
          "output_type": "execute_result",
          "data": {
            "text/plain": [
              "Text(0.5, 1.0, 'Training and validation loss')"
            ]
          },
          "metadata": {
            "tags": []
          },
          "execution_count": 43
        },
        {
          "output_type": "display_data",
          "data": {
            "image/png": "[encoded data removed]",
            "text/plain": [
              "<Figure size 432x288 with 1 Axes>"
            ]
          },
          "metadata": {
            "tags": [],
            "image/png": {
              "width": 380,
              "height": 263
            }
          }
        },
        {
          "output_type": "display_data",
          "data": {
            "image/png": "[encoded data removed]",
            "text/plain": [
              "<Figure size 432x288 with 1 Axes>"
            ]
          },
          "metadata": {
            "tags": [],
            "image/png": {
              "width": 373,
              "height": 263
            }
          }
        }
      ]
    },
    {
      "cell_type": "code",
      "metadata": {
        "id": "G0izAnbPjYDt",
        "colab_type": "code",
        "colab": {}
      },
      "source": [
        "model.save('architecure.h5')"
      ],
      "execution_count": 0,
      "outputs": []
    }
  ]
}