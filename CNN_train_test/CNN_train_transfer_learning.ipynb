{
  "nbformat": 4,
  "nbformat_minor": 0,
  "metadata": {
    "colab": {
      "name": "CNN_train_transfer_learning.ipynb",
      "version": "0.3.2",
      "provenance": [],
      "collapsed_sections": [],
      "include_colab_link": true
    },
    "kernelspec": {
      "name": "python3",
      "display_name": "Python 3"
    },
    "accelerator": "GPU"
  },
  "cells": [
    {
      "cell_type": "markdown",
      "metadata": {
        "id": "view-in-github",
        "colab_type": "text"
      },
      "source": [
        "<a href=\"https://colab.research.google.com/github/piyushsoni27/CNN_web/blob/master/CNN_train_test/CNN_train_transfer_learning.ipynb\" target=\"_parent\"><img src=\"https://colab.research.google.com/assets/colab-badge.svg\" alt=\"Open In Colab\"/></a>"
      ]
    },
    {
      "cell_type": "code",
      "metadata": {
        "id": "Tu1KET_iJzjs",
        "colab_type": "code",
        "colab": {}
      },
      "source": [
        "from google.colab import drive\n",
        "drive.mount('/content/drive')"
      ],
      "execution_count": 0,
      "outputs": []
    },
    {
      "cell_type": "code",
      "metadata": {
        "id": "dxx1lsSeJ-j3",
        "colab_type": "code",
        "colab": {}
      },
      "source": [
        "\"\"\"\n",
        "import os\n",
        "\n",
        "os.chdir(\"drive/My Drive/Google colab projects/CNN_web\")\n",
        "\"\"\""
      ],
      "execution_count": 0,
      "outputs": []
    },
    {
      "cell_type": "code",
      "metadata": {
        "id": "ZzY6zO01KLIY",
        "colab_type": "code",
        "colab": {}
      },
      "source": [
        "patches_dir = \"cifar-10-batches-py/\""
      ],
      "execution_count": 0,
      "outputs": []
    },
    {
      "cell_type": "markdown",
      "metadata": {
        "id": "5UP0scgw-5Vs",
        "colab_type": "text"
      },
      "source": [
        "#imports"
      ]
    },
    {
      "cell_type": "code",
      "metadata": {
        "id": "TM8Ltge-KkSH",
        "colab_type": "code",
        "colab": {}
      },
      "source": [
        "import numpy as np\n",
        "import pickle\n",
        "import os\n",
        "import cv2\n",
        "\n",
        "import tensorflow as tf\n",
        "from tensorflow.keras import layers\n",
        "from tensorflow.keras import Model\n",
        "from tensorflow.keras.utils import to_categorical\n",
        "from tensorflow.keras.optimizers import RMSprop\n",
        "from tensorflow.keras.preprocessing.image import ImageDataGenerator\n",
        "\n",
        "import scipy\n",
        "\n",
        "import matplotlib.pyplot as plt\n",
        "\n",
        "%matplotlib inline\n",
        "%config InlineBackend.figure_format = 'retina'"
      ],
      "execution_count": 0,
      "outputs": []
    },
    {
      "cell_type": "markdown",
      "metadata": {
        "id": "Td1sVqBqwTJv",
        "colab_type": "text"
      },
      "source": [
        "##Parameters to be set"
      ]
    },
    {
      "cell_type": "code",
      "metadata": {
        "id": "kGZDWZjewV95",
        "colab_type": "code",
        "colab": {}
      },
      "source": [
        "## Minimum input image shape is (75, 75, 3) for inceptionV3 model.\n",
        "input_size = (75, 75, 3)\n",
        "\n",
        "num_classes = 10"
      ],
      "execution_count": 0,
      "outputs": []
    },
    {
      "cell_type": "markdown",
      "metadata": {
        "id": "BFn_hAE2MvhZ",
        "colab_type": "text"
      },
      "source": [
        "##Download and load pre-trained *Inception V3* model"
      ]
    },
    {
      "cell_type": "code",
      "metadata": {
        "id": "Dj_oFMgfKy59",
        "colab_type": "code",
        "colab": {}
      },
      "source": [
        "!wget --no-check-certificate \\\n",
        "    https://storage.googleapis.com/mledu-datasets/inception_v3_weights_tf_dim_ordering_tf_kernels_notop.h5 \\\n",
        "    -O /tmp/inception_v3_weights_tf_dim_ordering_tf_kernels_notop.h5"
      ],
      "execution_count": 0,
      "outputs": []
    },
    {
      "cell_type": "code",
      "metadata": {
        "id": "zN7tfb46MOxT",
        "colab_type": "code",
        "colab": {}
      },
      "source": [
        "from tensorflow.keras.applications.inception_v3 import InceptionV3\n",
        "\n",
        "## Minimum input image shape is (75, 75, 3) for inceptionV3 model.\n",
        "\n",
        "local_weights_file = '/tmp/inception_v3_weights_tf_dim_ordering_tf_kernels_notop.h5'\n",
        "pre_trained_model = InceptionV3(\n",
        "    input_shape=input_size, include_top=False, weights=None)\n",
        "pre_trained_model.load_weights(local_weights_file)"
      ],
      "execution_count": 0,
      "outputs": []
    },
    {
      "cell_type": "markdown",
      "metadata": {
        "id": "RGekmgtuMiwS",
        "colab_type": "text"
      },
      "source": [
        "##Loading and preparing data "
      ]
    },
    {
      "cell_type": "code",
      "metadata": {
        "id": "IR_OyPBqMVBg",
        "colab_type": "code",
        "colab": {}
      },
      "source": [
        "def load_cifar10_train_batch_util(batch_id):\n",
        "\n",
        "    with open(os.path.join('cifar-10-batches-py','data_batch_' \n",
        "              + str(batch_id)), mode='rb') as file:\n",
        "        batch = pickle.load(file, encoding='latin1')\n",
        "\n",
        "    features_batch = batch['data'].reshape((len(batch['data']), 3, 32, 32)).transpose(0, 2, 3, 1)\n",
        "    labels_batch = batch['labels']\n",
        "    \n",
        "    return features_batch, labels_batch\n",
        "\n",
        "def load_train_data(im_shape = (32,32,3), one_hot_labels = True, num_classes = num_classes):\n",
        "    features = np.zeros(shape = (50000, 32, 32, 3), dtype = np.uint8)\n",
        "    labels = []\n",
        "\n",
        "    for batch_id in range(1,6):\n",
        "        x, y = load_cifar10_train_batch_util(batch_id)\n",
        "        features[10000*(batch_id-1) : 10000*batch_id] = x\n",
        "        labels.extend(y)\n",
        "    \n",
        "    if(one_hot_labels is True):\n",
        "        labels = to_categorical(labels, num_classes)\n",
        "    \n",
        "    if(im_shape is not (32,32,3)):\n",
        "      \n",
        "      features_new = np.empty(shape=(features.shape[0],)+new_shape, dtype=np.uint8)\n",
        "      for idx in range(features.shape[0]):\n",
        "          features_new[idx] = scipy.misc.imresize(features[idx], new_shape)\n",
        "      \n",
        "      return features_new, labels\n",
        "    \n",
        "    else:\n",
        "        return features, labels\n",
        "      \n",
        "def load_test_data(im_shape = (32,32,3)):\n",
        "    \n",
        "    with open(os.path.join('cifar-10-batches-py','test_batch'), mode='rb') as file:\n",
        "        batch = pickle.load(file, encoding='latin1')\n",
        "\n",
        "    features = batch['data'].reshape((len(batch['data']), 3, 32, 32)).transpose(0, 2, 3, 1)\n",
        "    labels = batch['labels']\n",
        "    \n",
        "    if(im_shape is not (32,32,3)):\n",
        "      \n",
        "      features_new = np.empty(shape=(features.shape[0],)+new_shape, dtype=np.uint8)\n",
        "      for idx in range(features.shape[0]):\n",
        "          features_new[idx] = scipy.misc.imresize(features[idx], new_shape)\n",
        "      \n",
        "      return features_new\n",
        "    \n",
        "    else:\n",
        "      return features"
      ],
      "execution_count": 0,
      "outputs": []
    },
    {
      "cell_type": "code",
      "metadata": {
        "id": "U72EphPrSTG5",
        "colab_type": "code",
        "colab": {
          "base_uri": "https://localhost:8080/",
          "height": 491
        },
        "outputId": "e7ce3951-a030-4255-85fc-5f578f17b7bf"
      },
      "source": [
        "x_train, y_train = load_train_data(im_shape = input_size)\n",
        "x_test = load_test_data(im_shape = input_size)\n",
        "\n",
        "print(x_test.shape)\n",
        "print(len(y_train))\n",
        "print(x_train[10000].shape) \n",
        "\n",
        "print(x_train[1].min())\n",
        "print(x_train[1].max())\n",
        "\n",
        "plt.axis('off')\n",
        "plt.imshow(x_train[10000])\n",
        "plt.show()\n",
        "\n",
        "print(\"label: {}\".format(y_train[10000]))"
      ],
      "execution_count": 115,
      "outputs": [
        {
          "output_type": "stream",
          "text": [
            "/usr/local/lib/python3.6/dist-packages/ipykernel_launcher.py:28: DeprecationWarning: `imresize` is deprecated!\n",
            "`imresize` is deprecated in SciPy 1.0.0, and will be removed in 1.3.0.\n",
            "Use Pillow instead: ``numpy.array(Image.fromarray(arr).resize())``.\n",
            "/usr/local/lib/python3.6/dist-packages/ipykernel_launcher.py:47: DeprecationWarning: `imresize` is deprecated!\n",
            "`imresize` is deprecated in SciPy 1.0.0, and will be removed in 1.3.0.\n",
            "Use Pillow instead: ``numpy.array(Image.fromarray(arr).resize())``.\n"
          ],
          "name": "stderr"
        },
        {
          "output_type": "stream",
          "text": [
            "(10000, 75, 75, 3)\n",
            "50000\n",
            "(75, 75, 3)\n",
            "5\n",
            "253\n"
          ],
          "name": "stdout"
        },
        {
          "output_type": "display_data",
          "data": {
            "image/png": "[encoded data removed]",
            "text/plain": [
              "<Figure size 432x288 with 1 Axes>"
            ]
          },
          "metadata": {
            "tags": [],
            "image/png": {
              "width": 251,
              "height": 250
            }
          }
        },
        {
          "output_type": "stream",
          "text": [
            "label: [0. 1. 0. 0. 0. 0. 0. 0. 0. 0.]\n"
          ],
          "name": "stdout"
        }
      ]
    },
    {
      "cell_type": "code",
      "metadata": {
        "id": "lomcPI7LRtRv",
        "colab_type": "code",
        "colab": {}
      },
      "source": [
        "# Adding rescale, rotation_range, width_shift_range, height_shift_range,\n",
        "# shear_range, zoom_range, and horizontal flip to our ImageDataGenerator\n",
        "train_datagen = ImageDataGenerator(\n",
        "    rescale=1./255,\n",
        "    rotation_range=40,\n",
        "    width_shift_range=0.2,\n",
        "    height_shift_range=0.2,\n",
        "    shear_range=0.2,\n",
        "    zoom_range=0.2,\n",
        "    horizontal_flip=True,)\n",
        "\n",
        "# Flow training images in batches of 32 using train_datagen generator\n",
        "train_generator = train_datagen.flow(x_train_new,  y_train)"
      ],
      "execution_count": 0,
      "outputs": []
    },
    {
      "cell_type": "code",
      "metadata": {
        "id": "l9F0y7r7MjtH",
        "colab_type": "code",
        "colab": {}
      },
      "source": [
        "for layer in pre_trained_model.layers:\n",
        "  layer.trainable = False\n",
        "  \n",
        "last_layer = pre_trained_model.get_layer('mixed7')\n",
        "print('last layer output shape:', last_layer.output_shape)\n",
        "last_output = last_layer.output\n",
        "\n"
      ],
      "execution_count": 0,
      "outputs": []
    }
  ]
}